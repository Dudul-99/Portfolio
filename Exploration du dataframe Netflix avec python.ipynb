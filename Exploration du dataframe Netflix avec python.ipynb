{
 "cells": [
  {
   "cell_type": "markdown",
   "id": "d736eff5",
   "metadata": {
    "ExecuteTime": {
     "end_time": "2024-01-11T13:07:18.001418Z",
     "start_time": "2024-01-11T13:07:17.996683Z"
    }
   },
   "source": [
    "# Import des library"
   ]
  },
  {
   "cell_type": "code",
   "execution_count": 73,
   "id": "ecbcf5c4",
   "metadata": {
    "ExecuteTime": {
     "end_time": "2024-01-11T13:25:45.933378Z",
     "start_time": "2024-01-11T13:25:45.929730Z"
    }
   },
   "outputs": [],
   "source": [
    "# Import des librarys\n",
    "import pandas as pd\n",
    "import numpy as np\n",
    "import seaborn as sns\n",
    "import matplotlib.pyplot as plt"
   ]
  },
  {
   "cell_type": "markdown",
   "id": "2880cbe3",
   "metadata": {},
   "source": [
    "# Import des données"
   ]
  },
  {
   "cell_type": "code",
   "execution_count": 74,
   "id": "43e2e0d8",
   "metadata": {
    "ExecuteTime": {
     "end_time": "2024-01-11T13:25:48.050950Z",
     "start_time": "2024-01-11T13:25:47.983502Z"
    }
   },
   "outputs": [],
   "source": [
    "# import des datas\n",
    "netflix_data=pd.read_csv('/Users/abdul/Desktop/R_data_science/R_data/netflix_titles.csv')"
   ]
  },
  {
   "cell_type": "markdown",
   "id": "2d425508",
   "metadata": {},
   "source": [
    "# Observation rapide "
   ]
  },
  {
   "cell_type": "code",
   "execution_count": 75,
   "id": "e9d508a7",
   "metadata": {
    "ExecuteTime": {
     "end_time": "2024-01-11T13:25:49.792310Z",
     "start_time": "2024-01-11T13:25:49.771407Z"
    }
   },
   "outputs": [
    {
     "data": {
      "text/html": [
       "<div>\n",
       "<style scoped>\n",
       "    .dataframe tbody tr th:only-of-type {\n",
       "        vertical-align: middle;\n",
       "    }\n",
       "\n",
       "    .dataframe tbody tr th {\n",
       "        vertical-align: top;\n",
       "    }\n",
       "\n",
       "    .dataframe thead th {\n",
       "        text-align: right;\n",
       "    }\n",
       "</style>\n",
       "<table border=\"1\" class=\"dataframe\">\n",
       "  <thead>\n",
       "    <tr style=\"text-align: right;\">\n",
       "      <th></th>\n",
       "      <th>show_id</th>\n",
       "      <th>type</th>\n",
       "      <th>title</th>\n",
       "      <th>director</th>\n",
       "      <th>cast</th>\n",
       "      <th>country</th>\n",
       "      <th>date_added</th>\n",
       "      <th>release_year</th>\n",
       "      <th>rating</th>\n",
       "      <th>duration</th>\n",
       "      <th>listed_in</th>\n",
       "      <th>description</th>\n",
       "    </tr>\n",
       "  </thead>\n",
       "  <tbody>\n",
       "    <tr>\n",
       "      <th>0</th>\n",
       "      <td>81145628</td>\n",
       "      <td>Movie</td>\n",
       "      <td>Norm of the North: King Sized Adventure</td>\n",
       "      <td>Richard Finn, Tim Maltby</td>\n",
       "      <td>Alan Marriott, Andrew Toth, Brian Dobson, Cole...</td>\n",
       "      <td>United States, India, South Korea, China</td>\n",
       "      <td>September 9, 2019</td>\n",
       "      <td>2019</td>\n",
       "      <td>TV-PG</td>\n",
       "      <td>90 min</td>\n",
       "      <td>Children &amp; Family Movies, Comedies</td>\n",
       "      <td>Before planning an awesome wedding for his gra...</td>\n",
       "    </tr>\n",
       "    <tr>\n",
       "      <th>1</th>\n",
       "      <td>80117401</td>\n",
       "      <td>Movie</td>\n",
       "      <td>Jandino: Whatever it Takes</td>\n",
       "      <td>NaN</td>\n",
       "      <td>Jandino Asporaat</td>\n",
       "      <td>United Kingdom</td>\n",
       "      <td>September 9, 2016</td>\n",
       "      <td>2016</td>\n",
       "      <td>TV-MA</td>\n",
       "      <td>94 min</td>\n",
       "      <td>Stand-Up Comedy</td>\n",
       "      <td>Jandino Asporaat riffs on the challenges of ra...</td>\n",
       "    </tr>\n",
       "    <tr>\n",
       "      <th>2</th>\n",
       "      <td>70234439</td>\n",
       "      <td>TV Show</td>\n",
       "      <td>Transformers Prime</td>\n",
       "      <td>NaN</td>\n",
       "      <td>Peter Cullen, Sumalee Montano, Frank Welker, J...</td>\n",
       "      <td>United States</td>\n",
       "      <td>September 8, 2018</td>\n",
       "      <td>2013</td>\n",
       "      <td>TV-Y7-FV</td>\n",
       "      <td>1 Season</td>\n",
       "      <td>Kids' TV</td>\n",
       "      <td>With the help of three human allies, the Autob...</td>\n",
       "    </tr>\n",
       "    <tr>\n",
       "      <th>3</th>\n",
       "      <td>80058654</td>\n",
       "      <td>TV Show</td>\n",
       "      <td>Transformers: Robots in Disguise</td>\n",
       "      <td>NaN</td>\n",
       "      <td>Will Friedle, Darren Criss, Constance Zimmer, ...</td>\n",
       "      <td>United States</td>\n",
       "      <td>September 8, 2018</td>\n",
       "      <td>2016</td>\n",
       "      <td>TV-Y7</td>\n",
       "      <td>1 Season</td>\n",
       "      <td>Kids' TV</td>\n",
       "      <td>When a prison ship crash unleashes hundreds of...</td>\n",
       "    </tr>\n",
       "    <tr>\n",
       "      <th>4</th>\n",
       "      <td>80125979</td>\n",
       "      <td>Movie</td>\n",
       "      <td>#realityhigh</td>\n",
       "      <td>Fernando Lebrija</td>\n",
       "      <td>Nesta Cooper, Kate Walsh, John Michael Higgins...</td>\n",
       "      <td>United States</td>\n",
       "      <td>September 8, 2017</td>\n",
       "      <td>2017</td>\n",
       "      <td>TV-14</td>\n",
       "      <td>99 min</td>\n",
       "      <td>Comedies</td>\n",
       "      <td>When nerdy high schooler Dani finally attracts...</td>\n",
       "    </tr>\n",
       "    <tr>\n",
       "      <th>...</th>\n",
       "      <td>...</td>\n",
       "      <td>...</td>\n",
       "      <td>...</td>\n",
       "      <td>...</td>\n",
       "      <td>...</td>\n",
       "      <td>...</td>\n",
       "      <td>...</td>\n",
       "      <td>...</td>\n",
       "      <td>...</td>\n",
       "      <td>...</td>\n",
       "      <td>...</td>\n",
       "      <td>...</td>\n",
       "    </tr>\n",
       "    <tr>\n",
       "      <th>6229</th>\n",
       "      <td>80000063</td>\n",
       "      <td>TV Show</td>\n",
       "      <td>Red vs. Blue</td>\n",
       "      <td>NaN</td>\n",
       "      <td>Burnie Burns, Jason Saldaña, Gustavo Sorola, G...</td>\n",
       "      <td>United States</td>\n",
       "      <td>NaN</td>\n",
       "      <td>2015</td>\n",
       "      <td>NR</td>\n",
       "      <td>13 Seasons</td>\n",
       "      <td>TV Action &amp; Adventure, TV Comedies, TV Sci-Fi ...</td>\n",
       "      <td>This parody of first-person shooter games, mil...</td>\n",
       "    </tr>\n",
       "    <tr>\n",
       "      <th>6230</th>\n",
       "      <td>70286564</td>\n",
       "      <td>TV Show</td>\n",
       "      <td>Maron</td>\n",
       "      <td>NaN</td>\n",
       "      <td>Marc Maron, Judd Hirsch, Josh Brener, Nora Zeh...</td>\n",
       "      <td>United States</td>\n",
       "      <td>NaN</td>\n",
       "      <td>2016</td>\n",
       "      <td>TV-MA</td>\n",
       "      <td>4 Seasons</td>\n",
       "      <td>TV Comedies</td>\n",
       "      <td>Marc Maron stars as Marc Maron, who interviews...</td>\n",
       "    </tr>\n",
       "    <tr>\n",
       "      <th>6231</th>\n",
       "      <td>80116008</td>\n",
       "      <td>Movie</td>\n",
       "      <td>Little Baby Bum: Nursery Rhyme Friends</td>\n",
       "      <td>NaN</td>\n",
       "      <td>NaN</td>\n",
       "      <td>NaN</td>\n",
       "      <td>NaN</td>\n",
       "      <td>2016</td>\n",
       "      <td>NaN</td>\n",
       "      <td>60 min</td>\n",
       "      <td>Movies</td>\n",
       "      <td>Nursery rhymes and original music for children...</td>\n",
       "    </tr>\n",
       "    <tr>\n",
       "      <th>6232</th>\n",
       "      <td>70281022</td>\n",
       "      <td>TV Show</td>\n",
       "      <td>A Young Doctor's Notebook and Other Stories</td>\n",
       "      <td>NaN</td>\n",
       "      <td>Daniel Radcliffe, Jon Hamm, Adam Godley, Chris...</td>\n",
       "      <td>United Kingdom</td>\n",
       "      <td>NaN</td>\n",
       "      <td>2013</td>\n",
       "      <td>TV-MA</td>\n",
       "      <td>2 Seasons</td>\n",
       "      <td>British TV Shows, TV Comedies, TV Dramas</td>\n",
       "      <td>Set during the Russian Revolution, this comic ...</td>\n",
       "    </tr>\n",
       "    <tr>\n",
       "      <th>6233</th>\n",
       "      <td>70153404</td>\n",
       "      <td>TV Show</td>\n",
       "      <td>Friends</td>\n",
       "      <td>NaN</td>\n",
       "      <td>Jennifer Aniston, Courteney Cox, Lisa Kudrow, ...</td>\n",
       "      <td>United States</td>\n",
       "      <td>NaN</td>\n",
       "      <td>2003</td>\n",
       "      <td>TV-14</td>\n",
       "      <td>10 Seasons</td>\n",
       "      <td>Classic &amp; Cult TV, TV Comedies</td>\n",
       "      <td>This hit sitcom follows the merry misadventure...</td>\n",
       "    </tr>\n",
       "  </tbody>\n",
       "</table>\n",
       "<p>6234 rows × 12 columns</p>\n",
       "</div>"
      ],
      "text/plain": [
       "       show_id     type                                        title  \\\n",
       "0     81145628    Movie      Norm of the North: King Sized Adventure   \n",
       "1     80117401    Movie                   Jandino: Whatever it Takes   \n",
       "2     70234439  TV Show                           Transformers Prime   \n",
       "3     80058654  TV Show             Transformers: Robots in Disguise   \n",
       "4     80125979    Movie                                 #realityhigh   \n",
       "...        ...      ...                                          ...   \n",
       "6229  80000063  TV Show                                 Red vs. Blue   \n",
       "6230  70286564  TV Show                                        Maron   \n",
       "6231  80116008    Movie       Little Baby Bum: Nursery Rhyme Friends   \n",
       "6232  70281022  TV Show  A Young Doctor's Notebook and Other Stories   \n",
       "6233  70153404  TV Show                                      Friends   \n",
       "\n",
       "                      director  \\\n",
       "0     Richard Finn, Tim Maltby   \n",
       "1                          NaN   \n",
       "2                          NaN   \n",
       "3                          NaN   \n",
       "4             Fernando Lebrija   \n",
       "...                        ...   \n",
       "6229                       NaN   \n",
       "6230                       NaN   \n",
       "6231                       NaN   \n",
       "6232                       NaN   \n",
       "6233                       NaN   \n",
       "\n",
       "                                                   cast  \\\n",
       "0     Alan Marriott, Andrew Toth, Brian Dobson, Cole...   \n",
       "1                                      Jandino Asporaat   \n",
       "2     Peter Cullen, Sumalee Montano, Frank Welker, J...   \n",
       "3     Will Friedle, Darren Criss, Constance Zimmer, ...   \n",
       "4     Nesta Cooper, Kate Walsh, John Michael Higgins...   \n",
       "...                                                 ...   \n",
       "6229  Burnie Burns, Jason Saldaña, Gustavo Sorola, G...   \n",
       "6230  Marc Maron, Judd Hirsch, Josh Brener, Nora Zeh...   \n",
       "6231                                                NaN   \n",
       "6232  Daniel Radcliffe, Jon Hamm, Adam Godley, Chris...   \n",
       "6233  Jennifer Aniston, Courteney Cox, Lisa Kudrow, ...   \n",
       "\n",
       "                                       country         date_added  \\\n",
       "0     United States, India, South Korea, China  September 9, 2019   \n",
       "1                               United Kingdom  September 9, 2016   \n",
       "2                                United States  September 8, 2018   \n",
       "3                                United States  September 8, 2018   \n",
       "4                                United States  September 8, 2017   \n",
       "...                                        ...                ...   \n",
       "6229                             United States                NaN   \n",
       "6230                             United States                NaN   \n",
       "6231                                       NaN                NaN   \n",
       "6232                            United Kingdom                NaN   \n",
       "6233                             United States                NaN   \n",
       "\n",
       "      release_year    rating    duration  \\\n",
       "0             2019     TV-PG      90 min   \n",
       "1             2016     TV-MA      94 min   \n",
       "2             2013  TV-Y7-FV    1 Season   \n",
       "3             2016     TV-Y7    1 Season   \n",
       "4             2017     TV-14      99 min   \n",
       "...            ...       ...         ...   \n",
       "6229          2015        NR  13 Seasons   \n",
       "6230          2016     TV-MA   4 Seasons   \n",
       "6231          2016       NaN      60 min   \n",
       "6232          2013     TV-MA   2 Seasons   \n",
       "6233          2003     TV-14  10 Seasons   \n",
       "\n",
       "                                              listed_in  \\\n",
       "0                    Children & Family Movies, Comedies   \n",
       "1                                       Stand-Up Comedy   \n",
       "2                                              Kids' TV   \n",
       "3                                              Kids' TV   \n",
       "4                                              Comedies   \n",
       "...                                                 ...   \n",
       "6229  TV Action & Adventure, TV Comedies, TV Sci-Fi ...   \n",
       "6230                                        TV Comedies   \n",
       "6231                                             Movies   \n",
       "6232           British TV Shows, TV Comedies, TV Dramas   \n",
       "6233                     Classic & Cult TV, TV Comedies   \n",
       "\n",
       "                                            description  \n",
       "0     Before planning an awesome wedding for his gra...  \n",
       "1     Jandino Asporaat riffs on the challenges of ra...  \n",
       "2     With the help of three human allies, the Autob...  \n",
       "3     When a prison ship crash unleashes hundreds of...  \n",
       "4     When nerdy high schooler Dani finally attracts...  \n",
       "...                                                 ...  \n",
       "6229  This parody of first-person shooter games, mil...  \n",
       "6230  Marc Maron stars as Marc Maron, who interviews...  \n",
       "6231  Nursery rhymes and original music for children...  \n",
       "6232  Set during the Russian Revolution, this comic ...  \n",
       "6233  This hit sitcom follows the merry misadventure...  \n",
       "\n",
       "[6234 rows x 12 columns]"
      ]
     },
     "execution_count": 75,
     "metadata": {},
     "output_type": "execute_result"
    }
   ],
   "source": [
    "# Visualisation\n",
    "netflix_data"
   ]
  },
  {
   "cell_type": "code",
   "execution_count": 76,
   "id": "f4a77b8b",
   "metadata": {
    "ExecuteTime": {
     "end_time": "2024-01-11T13:25:53.261905Z",
     "start_time": "2024-01-11T13:25:53.255931Z"
    }
   },
   "outputs": [
    {
     "data": {
      "text/plain": [
       "Index(['show_id', 'type', 'title', 'director', 'cast', 'country', 'date_added',\n",
       "       'release_year', 'rating', 'duration', 'listed_in', 'description'],\n",
       "      dtype='object')"
      ]
     },
     "execution_count": 76,
     "metadata": {},
     "output_type": "execute_result"
    }
   ],
   "source": [
    "netflix_data.columns"
   ]
  },
  {
   "cell_type": "code",
   "execution_count": 77,
   "id": "56c0cfa7",
   "metadata": {
    "ExecuteTime": {
     "end_time": "2024-01-11T13:25:55.535843Z",
     "start_time": "2024-01-11T13:25:55.531187Z"
    }
   },
   "outputs": [
    {
     "name": "stdout",
     "output_type": "stream",
     "text": [
      "show_id int64\n",
      "type object\n",
      "title object\n",
      "director object\n",
      "cast object\n",
      "country object\n",
      "date_added object\n",
      "release_year int64\n",
      "rating object\n",
      "duration object\n",
      "listed_in object\n",
      "description object\n"
     ]
    }
   ],
   "source": [
    "# Observation du type de chaque variables\n",
    "for col_name,col_type in netflix_data.dtypes.items():\n",
    "    print(col_name,  col_type)"
   ]
  },
  {
   "cell_type": "code",
   "execution_count": 78,
   "id": "1227666e",
   "metadata": {
    "ExecuteTime": {
     "end_time": "2024-01-11T13:25:58.929536Z",
     "start_time": "2024-01-11T13:25:58.924181Z"
    }
   },
   "outputs": [
    {
     "name": "stdout",
     "output_type": "stream",
     "text": [
      "6234\n",
      "(6234, 12)\n"
     ]
    }
   ],
   "source": [
    "# Vérification que la variable d'identification est bien unique\n",
    "print(netflix_data['show_id'].nunique())\n",
    "print(netflix_data.shape)"
   ]
  },
  {
   "cell_type": "markdown",
   "id": "f39b58f3",
   "metadata": {},
   "source": [
    "# Vérification des valeurs manquantes"
   ]
  },
  {
   "cell_type": "code",
   "execution_count": 79,
   "id": "ba10e976",
   "metadata": {
    "ExecuteTime": {
     "end_time": "2024-01-11T13:26:01.087674Z",
     "start_time": "2024-01-11T13:26:01.076193Z"
    }
   },
   "outputs": [
    {
     "data": {
      "text/plain": [
       "show_id            0\n",
       "type               0\n",
       "title              0\n",
       "director        1969\n",
       "cast             570\n",
       "country          476\n",
       "date_added        11\n",
       "release_year       0\n",
       "rating            10\n",
       "duration           0\n",
       "listed_in          0\n",
       "description        0\n",
       "dtype: int64"
      ]
     },
     "execution_count": 79,
     "metadata": {},
     "output_type": "execute_result"
    }
   ],
   "source": [
    "netflix_data.isna().sum()"
   ]
  },
  {
   "cell_type": "markdown",
   "id": "6cb0b97c",
   "metadata": {},
   "source": [
    "On remarque que des variables ont énormément des valeurs manquantes, un travail devra y être consacrée afin d' identifier l'origine du problème et de le corriger avant exploitation plus poussée.\n"
   ]
  },
  {
   "cell_type": "markdown",
   "id": "7579516f",
   "metadata": {},
   "source": [
    "# Analyses rapide "
   ]
  },
  {
   "cell_type": "code",
   "execution_count": 80,
   "id": "76a21a94",
   "metadata": {
    "ExecuteTime": {
     "end_time": "2024-01-11T13:26:03.436757Z",
     "start_time": "2024-01-11T13:26:03.415539Z"
    }
   },
   "outputs": [
    {
     "data": {
      "text/html": [
       "<div>\n",
       "<style scoped>\n",
       "    .dataframe tbody tr th:only-of-type {\n",
       "        vertical-align: middle;\n",
       "    }\n",
       "\n",
       "    .dataframe tbody tr th {\n",
       "        vertical-align: top;\n",
       "    }\n",
       "\n",
       "    .dataframe thead th {\n",
       "        text-align: right;\n",
       "    }\n",
       "</style>\n",
       "<table border=\"1\" class=\"dataframe\">\n",
       "  <thead>\n",
       "    <tr style=\"text-align: right;\">\n",
       "      <th>release_year</th>\n",
       "      <th>1925</th>\n",
       "      <th>1942</th>\n",
       "      <th>1943</th>\n",
       "      <th>1944</th>\n",
       "      <th>1945</th>\n",
       "      <th>1946</th>\n",
       "      <th>1947</th>\n",
       "      <th>1954</th>\n",
       "      <th>1955</th>\n",
       "      <th>1956</th>\n",
       "      <th>...</th>\n",
       "      <th>2011</th>\n",
       "      <th>2012</th>\n",
       "      <th>2013</th>\n",
       "      <th>2014</th>\n",
       "      <th>2015</th>\n",
       "      <th>2016</th>\n",
       "      <th>2017</th>\n",
       "      <th>2018</th>\n",
       "      <th>2019</th>\n",
       "      <th>2020</th>\n",
       "    </tr>\n",
       "    <tr>\n",
       "      <th>type</th>\n",
       "      <th></th>\n",
       "      <th></th>\n",
       "      <th></th>\n",
       "      <th></th>\n",
       "      <th></th>\n",
       "      <th></th>\n",
       "      <th></th>\n",
       "      <th></th>\n",
       "      <th></th>\n",
       "      <th></th>\n",
       "      <th></th>\n",
       "      <th></th>\n",
       "      <th></th>\n",
       "      <th></th>\n",
       "      <th></th>\n",
       "      <th></th>\n",
       "      <th></th>\n",
       "      <th></th>\n",
       "      <th></th>\n",
       "      <th></th>\n",
       "      <th></th>\n",
       "    </tr>\n",
       "  </thead>\n",
       "  <tbody>\n",
       "    <tr>\n",
       "      <th>Movie</th>\n",
       "      <td>0</td>\n",
       "      <td>2</td>\n",
       "      <td>3</td>\n",
       "      <td>3</td>\n",
       "      <td>3</td>\n",
       "      <td>2</td>\n",
       "      <td>1</td>\n",
       "      <td>1</td>\n",
       "      <td>1</td>\n",
       "      <td>1</td>\n",
       "      <td>...</td>\n",
       "      <td>100</td>\n",
       "      <td>125</td>\n",
       "      <td>177</td>\n",
       "      <td>213</td>\n",
       "      <td>363</td>\n",
       "      <td>593</td>\n",
       "      <td>682</td>\n",
       "      <td>646</td>\n",
       "      <td>400</td>\n",
       "      <td>6</td>\n",
       "    </tr>\n",
       "    <tr>\n",
       "      <th>TV Show</th>\n",
       "      <td>1</td>\n",
       "      <td>0</td>\n",
       "      <td>0</td>\n",
       "      <td>0</td>\n",
       "      <td>0</td>\n",
       "      <td>1</td>\n",
       "      <td>0</td>\n",
       "      <td>0</td>\n",
       "      <td>0</td>\n",
       "      <td>0</td>\n",
       "      <td>...</td>\n",
       "      <td>36</td>\n",
       "      <td>58</td>\n",
       "      <td>60</td>\n",
       "      <td>75</td>\n",
       "      <td>154</td>\n",
       "      <td>237</td>\n",
       "      <td>277</td>\n",
       "      <td>417</td>\n",
       "      <td>443</td>\n",
       "      <td>19</td>\n",
       "    </tr>\n",
       "  </tbody>\n",
       "</table>\n",
       "<p>2 rows × 72 columns</p>\n",
       "</div>"
      ],
      "text/plain": [
       "release_year  1925  1942  1943  1944  1945  1946  1947  1954  1955  1956  ...  \\\n",
       "type                                                                      ...   \n",
       "Movie            0     2     3     3     3     2     1     1     1     1  ...   \n",
       "TV Show          1     0     0     0     0     1     0     0     0     0  ...   \n",
       "\n",
       "release_year  2011  2012  2013  2014  2015  2016  2017  2018  2019  2020  \n",
       "type                                                                      \n",
       "Movie          100   125   177   213   363   593   682   646   400     6  \n",
       "TV Show         36    58    60    75   154   237   277   417   443    19  \n",
       "\n",
       "[2 rows x 72 columns]"
      ]
     },
     "execution_count": 80,
     "metadata": {},
     "output_type": "execute_result"
    }
   ],
   "source": [
    "# Nombre de film et série au cours du temps\n",
    "netflix_data.groupby(['type', 'release_year']).size().unstack(fill_value=0)"
   ]
  },
  {
   "cell_type": "code",
   "execution_count": 30,
   "id": "b5bb4633",
   "metadata": {
    "ExecuteTime": {
     "end_time": "2024-01-11T12:53:54.795801Z",
     "start_time": "2024-01-11T12:53:54.787605Z"
    }
   },
   "outputs": [
    {
     "name": "stdout",
     "output_type": "stream",
     "text": [
      "type\n",
      "Movie      4265\n",
      "TV Show    1969\n",
      "Name: count, dtype: int64\n",
      "type\n",
      "Movie      68.415143\n",
      "TV Show    31.584857\n",
      "Name: count, dtype: float64\n"
     ]
    }
   ],
   "source": [
    "# Nombre total de film et série avec pourcentage\n",
    "total_movies_tv = netflix_data['type'].value_counts()\n",
    "percentage_movies_tv = total_movies_tv / total_movies_tv.sum() * 100\n",
    "print(total_movies_tv)\n",
    "print(percentage_movies_tv)\n",
    "# Count plot\n",
    "#plt.figure(figsize=(20, 10))\n",
    "#sns.countplot(data=netflix_data, x='release_year', hue='type')"
   ]
  },
  {
   "cell_type": "code",
   "execution_count": 81,
   "id": "e6e05f37",
   "metadata": {
    "ExecuteTime": {
     "end_time": "2024-01-11T13:26:06.029853Z",
     "start_time": "2024-01-11T13:26:06.010240Z"
    }
   },
   "outputs": [
    {
     "data": {
      "text/html": [
       "<div>\n",
       "<style scoped>\n",
       "    .dataframe tbody tr th:only-of-type {\n",
       "        vertical-align: middle;\n",
       "    }\n",
       "\n",
       "    .dataframe tbody tr th {\n",
       "        vertical-align: top;\n",
       "    }\n",
       "\n",
       "    .dataframe thead th {\n",
       "        text-align: right;\n",
       "    }\n",
       "</style>\n",
       "<table border=\"1\" class=\"dataframe\">\n",
       "  <thead>\n",
       "    <tr style=\"text-align: right;\">\n",
       "      <th>country</th>\n",
       "      <th>Argentina</th>\n",
       "      <th>Argentina, Brazil, France, Poland, Germany, Denmark</th>\n",
       "      <th>Argentina, Chile</th>\n",
       "      <th>Argentina, Chile, Peru</th>\n",
       "      <th>Argentina, France</th>\n",
       "      <th>Argentina, France, Germany</th>\n",
       "      <th>Argentina, Italy</th>\n",
       "      <th>Argentina, Spain</th>\n",
       "      <th>Argentina, United States</th>\n",
       "      <th>Argentina, United States, Mexico</th>\n",
       "      <th>...</th>\n",
       "      <th>United States, United Kingdom, Spain, South Korea</th>\n",
       "      <th>United States, Uruguay</th>\n",
       "      <th>United States, Venezuela</th>\n",
       "      <th>Uruguay</th>\n",
       "      <th>Uruguay, Argentina, Spain</th>\n",
       "      <th>Uruguay, Spain, Mexico</th>\n",
       "      <th>Venezuela</th>\n",
       "      <th>Venezuela, Colombia</th>\n",
       "      <th>Vietnam</th>\n",
       "      <th>West Germany</th>\n",
       "    </tr>\n",
       "    <tr>\n",
       "      <th>type</th>\n",
       "      <th></th>\n",
       "      <th></th>\n",
       "      <th></th>\n",
       "      <th></th>\n",
       "      <th></th>\n",
       "      <th></th>\n",
       "      <th></th>\n",
       "      <th></th>\n",
       "      <th></th>\n",
       "      <th></th>\n",
       "      <th></th>\n",
       "      <th></th>\n",
       "      <th></th>\n",
       "      <th></th>\n",
       "      <th></th>\n",
       "      <th></th>\n",
       "      <th></th>\n",
       "      <th></th>\n",
       "      <th></th>\n",
       "      <th></th>\n",
       "      <th></th>\n",
       "    </tr>\n",
       "  </thead>\n",
       "  <tbody>\n",
       "    <tr>\n",
       "      <th>Movie</th>\n",
       "      <td>26</td>\n",
       "      <td>1</td>\n",
       "      <td>1</td>\n",
       "      <td>1</td>\n",
       "      <td>1</td>\n",
       "      <td>1</td>\n",
       "      <td>2</td>\n",
       "      <td>6</td>\n",
       "      <td>1</td>\n",
       "      <td>0</td>\n",
       "      <td>...</td>\n",
       "      <td>1</td>\n",
       "      <td>1</td>\n",
       "      <td>1</td>\n",
       "      <td>2</td>\n",
       "      <td>1</td>\n",
       "      <td>1</td>\n",
       "      <td>1</td>\n",
       "      <td>1</td>\n",
       "      <td>4</td>\n",
       "      <td>1</td>\n",
       "    </tr>\n",
       "    <tr>\n",
       "      <th>TV Show</th>\n",
       "      <td>12</td>\n",
       "      <td>0</td>\n",
       "      <td>0</td>\n",
       "      <td>0</td>\n",
       "      <td>0</td>\n",
       "      <td>0</td>\n",
       "      <td>0</td>\n",
       "      <td>1</td>\n",
       "      <td>0</td>\n",
       "      <td>1</td>\n",
       "      <td>...</td>\n",
       "      <td>0</td>\n",
       "      <td>0</td>\n",
       "      <td>0</td>\n",
       "      <td>0</td>\n",
       "      <td>0</td>\n",
       "      <td>0</td>\n",
       "      <td>0</td>\n",
       "      <td>0</td>\n",
       "      <td>0</td>\n",
       "      <td>0</td>\n",
       "    </tr>\n",
       "  </tbody>\n",
       "</table>\n",
       "<p>2 rows × 554 columns</p>\n",
       "</div>"
      ],
      "text/plain": [
       "country  Argentina  Argentina, Brazil, France, Poland, Germany, Denmark  \\\n",
       "type                                                                      \n",
       "Movie           26                                                  1     \n",
       "TV Show         12                                                  0     \n",
       "\n",
       "country  Argentina, Chile  Argentina, Chile, Peru  Argentina, France  \\\n",
       "type                                                                   \n",
       "Movie                   1                       1                  1   \n",
       "TV Show                 0                       0                  0   \n",
       "\n",
       "country  Argentina, France, Germany  Argentina, Italy  Argentina, Spain  \\\n",
       "type                                                                      \n",
       "Movie                             1                 2                 6   \n",
       "TV Show                           0                 0                 1   \n",
       "\n",
       "country  Argentina, United States  Argentina, United States, Mexico  ...  \\\n",
       "type                                                                 ...   \n",
       "Movie                           1                                 0  ...   \n",
       "TV Show                         0                                 1  ...   \n",
       "\n",
       "country  United States, United Kingdom, Spain, South Korea  \\\n",
       "type                                                         \n",
       "Movie                                                    1   \n",
       "TV Show                                                  0   \n",
       "\n",
       "country  United States, Uruguay  United States, Venezuela  Uruguay  \\\n",
       "type                                                                 \n",
       "Movie                         1                         1        2   \n",
       "TV Show                       0                         0        0   \n",
       "\n",
       "country  Uruguay, Argentina, Spain  Uruguay, Spain, Mexico  Venezuela  \\\n",
       "type                                                                    \n",
       "Movie                            1                       1          1   \n",
       "TV Show                          0                       0          0   \n",
       "\n",
       "country  Venezuela, Colombia  Vietnam  West Germany  \n",
       "type                                                 \n",
       "Movie                      1        4             1  \n",
       "TV Show                    0        0             0  \n",
       "\n",
       "[2 rows x 554 columns]"
      ]
     },
     "execution_count": 81,
     "metadata": {},
     "output_type": "execute_result"
    }
   ],
   "source": [
    "# Nombre film et série par pays\n",
    "netflix_data.groupby(['type', 'country']).size().unstack(fill_value=0)"
   ]
  },
  {
   "cell_type": "code",
   "execution_count": 83,
   "id": "d1cf377e",
   "metadata": {
    "ExecuteTime": {
     "end_time": "2024-01-11T13:26:16.436221Z",
     "start_time": "2024-01-11T13:26:16.417827Z"
    }
   },
   "outputs": [
    {
     "data": {
      "text/plain": [
       "TV-MA    2027\n",
       "TV-14    1698\n",
       "TV-PG     701\n",
       "R         508\n",
       "PG-13     286\n",
       "NR        218\n",
       "PG        184\n",
       "TV-Y7     169\n",
       "TV-G      149\n",
       "TV-Y      143\n",
       "Name: count, dtype: int64"
      ]
     },
     "execution_count": 83,
     "metadata": {},
     "output_type": "execute_result"
    }
   ],
   "source": [
    "# TOP 10 des classements de film (équivalent PEGI fr)\n",
    "netflix_data['rating'].str.split(', ', expand=True).stack().value_counts().head(10)"
   ]
  },
  {
   "cell_type": "code",
   "execution_count": 84,
   "id": "6161a0ad",
   "metadata": {
    "ExecuteTime": {
     "end_time": "2024-01-11T13:26:21.635158Z",
     "start_time": "2024-01-11T13:26:21.611228Z"
    }
   },
   "outputs": [
    {
     "data": {
      "text/plain": [
       "type\n",
       "Movie      99.100821\n",
       "TV Show     1.000000\n",
       "Name: duration, dtype: float64"
      ]
     },
     "execution_count": 84,
     "metadata": {},
     "output_type": "execute_result"
    }
   ],
   "source": [
    "# Durée moyenne série en saisons et fime en minutes\n",
    "netflix_data['duration'] = netflix_data['duration'].str.replace(' min', '').str.replace(' Season', '').str.replace(' Seasons', '')\n",
    "netflix_data['duration'] = pd.to_numeric(netflix_data['duration'], errors='coerce')\n",
    "average_duration = netflix_data.groupby('type')['duration'].mean()\n",
    "average_duration"
   ]
  },
  {
   "cell_type": "code",
   "execution_count": null,
   "id": "4a022fc2",
   "metadata": {},
   "outputs": [],
   "source": []
  }
 ],
 "metadata": {
  "kernelspec": {
   "display_name": "Python 3 (ipykernel)",
   "language": "python",
   "name": "python3"
  },
  "language_info": {
   "codemirror_mode": {
    "name": "ipython",
    "version": 3
   },
   "file_extension": ".py",
   "mimetype": "text/x-python",
   "name": "python",
   "nbconvert_exporter": "python",
   "pygments_lexer": "ipython3",
   "version": "3.11.5"
  },
  "toc": {
   "base_numbering": 1,
   "nav_menu": {},
   "number_sections": true,
   "sideBar": true,
   "skip_h1_title": false,
   "title_cell": "Table of Contents",
   "title_sidebar": "Contents",
   "toc_cell": false,
   "toc_position": {},
   "toc_section_display": true,
   "toc_window_display": false
  },
  "varInspector": {
   "cols": {
    "lenName": 16,
    "lenType": 16,
    "lenVar": 40
   },
   "kernels_config": {
    "python": {
     "delete_cmd_postfix": "",
     "delete_cmd_prefix": "del ",
     "library": "var_list.py",
     "varRefreshCmd": "print(var_dic_list())"
    },
    "r": {
     "delete_cmd_postfix": ") ",
     "delete_cmd_prefix": "rm(",
     "library": "var_list.r",
     "varRefreshCmd": "cat(var_dic_list()) "
    }
   },
   "types_to_exclude": [
    "module",
    "function",
    "builtin_function_or_method",
    "instance",
    "_Feature"
   ],
   "window_display": false
  }
 },
 "nbformat": 4,
 "nbformat_minor": 5
}
